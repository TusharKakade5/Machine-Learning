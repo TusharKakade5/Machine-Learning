{
 "cells": [
  {
   "cell_type": "code",
   "execution_count": null,
   "metadata": {
    "id": "o9V1QmTmHogv"
   },
   "outputs": [],
   "source": [
    "from keras.datasets import mnist\n",
    "from keras.utils import to_categorical\n",
    "from keras.models import Sequential\n",
    "from keras.layers import Dense\n",
    "from keras.layers import Activation,Conv2D,MaxPool2D,Flatten\n",
    "from keras.layers import BatchNormalization\n",
    "from keras.optimizers import SGD\n",
    "from matplotlib import pyplot\n",
    "import numpy as np"
   ]
  },
  {
   "cell_type": "code",
   "execution_count": null,
   "metadata": {
    "colab": {
     "base_uri": "https://localhost:8080/"
    },
    "id": "45u3oxBKH2Ft",
    "outputId": "4d7003fb-5233-4906-cd39-23748be6da21"
   },
   "outputs": [
    {
     "name": "stdout",
     "output_type": "stream",
     "text": [
      "Downloading data from https://storage.googleapis.com/tensorflow/tf-keras-datasets/mnist.npz\n",
      "11493376/11490434 [==============================] - 0s 0us/step\n"
     ]
    }
   ],
   "source": [
    "(trainX, trainy), (testX, testy) = mnist.load_data()\n",
    "\n",
    "# to convert values from 0 to 255 into range 0 to 1.\n",
    "trainX = np.expand_dims(trainX, axis=-1)\n",
    "trainX = trainX.astype(\"float32\") / 255.0\n",
    "\n",
    "trainy=to_categorical(trainy)"
   ]
  },
  {
   "cell_type": "code",
   "execution_count": null,
   "metadata": {
    "id": "vGaCUrXQH2Tx"
   },
   "outputs": [],
   "source": [
    "# define model with batch normalisation\n",
    "model = Sequential()\n",
    "model.add(Conv2D(32, (3, 3), activation='relu',input_shape=(28,28,1)))\n",
    "model.add(MaxPool2D(2,2))\n",
    "model.add(Conv2D(64, (3, 3), activation='relu'))\n",
    "model.add(Flatten())\n",
    "model.add(BatchNormalization())\n",
    "model.add(Dense(64, activation='relu'))\n",
    "model.add(Dense(10, activation='softmax'))\n",
    "opt = SGD(lr=0.01)\n",
    "model.compile(loss='categorical_crossentropy', optimizer=opt, metrics=['accuracy'])"
   ]
  },
  {
   "cell_type": "code",
   "execution_count": null,
   "metadata": {
    "colab": {
     "base_uri": "https://localhost:8080/"
    },
    "id": "_TCSBkQIH2jP",
    "outputId": "e2b32e5d-91a9-4fa0-e33d-7834a5980ebe"
   },
   "outputs": [
    {
     "name": "stdout",
     "output_type": "stream",
     "text": [
      "Epoch 1/2\n",
      "1875/1875 [==============================] - 60s 32ms/step - loss: 0.0292 - accuracy: 0.9912\n",
      "Epoch 2/2\n",
      "1875/1875 [==============================] - 63s 33ms/step - loss: 0.0241 - accuracy: 0.9929\n",
      "Epoch 1/2\n",
      "1875/1875 [==============================] - 55s 29ms/step - loss: 2.0726 - accuracy: 0.4047\n",
      "Epoch 2/2\n",
      "1875/1875 [==============================] - 55s 29ms/step - loss: 0.4827 - accuracy: 0.8633\n"
     ]
    }
   ],
   "source": [
    "# fit model\n",
    "history = model.fit(trainX, trainy, epochs=2, verbose=1)\n",
    "# define model without batch normalisation\n",
    "model_1 = Sequential()\n",
    "model_1.add(Conv2D(32, (3, 3), activation='relu',input_shape=(28,28,1)))\n",
    "model_1.add(MaxPool2D(2,2))\n",
    "model_1.add(Conv2D(64, (3, 3), activation='relu'))\n",
    "model_1.add(Flatten())\n",
    "model_1.add(Dense(64, activation='relu'))\n",
    "model_1.add(Dense(10, activation='softmax'))\n",
    "opt1 = SGD(lr=0.001)\n",
    "model_1.compile(loss='categorical_crossentropy', optimizer=opt1, metrics=['accuracy'])\n",
    "# fit model\n",
    "history1 = model_1.fit(trainX, trainy, epochs=2, verbose=1)"
   ]
  },
  {
   "cell_type": "code",
   "execution_count": null,
   "metadata": {
    "colab": {
     "base_uri": "https://localhost:8080/",
     "height": 265
    },
    "id": "Mf5uF8gzH2s3",
    "outputId": "7d325de9-5dbf-4463-d11e-e048850537a0"
   },
   "outputs": [
    {
     "data": {
      "image/png": "[encoded data removed]",
      "text/plain": [
       "<Figure size 432x288 with 1 Axes>"
      ]
     },
     "metadata": {
      "needs_background": "light",
      "tags": []
     },
     "output_type": "display_data"
    }
   ],
   "source": [
    "# plot history\n",
    "pyplot.plot(history.history['loss'], label='with batch normalisation')\n",
    "pyplot.plot(history1.history['loss'], label='without batch normalisation')\n",
    "pyplot.legend()\n",
    "pyplot.show()"
   ]
  }
 ],
 "metadata": {
  "colab": {
   "collapsed_sections": [],
   "name": "BatchNormalization_1.ipynb",
   "provenance": []
  },
  "kernelspec": {
   "display_name": "Python 3",
   "language": "python",
   "name": "python3"
  },
  "language_info": {
   "codemirror_mode": {
    "name": "ipython",
    "version": 3
   },
   "file_extension": ".py",
   "mimetype": "text/x-python",
   "name": "python",
   "nbconvert_exporter": "python",
   "pygments_lexer": "ipython3",
   "version": "3.8.3"
  }
 },
 "nbformat": 4,
 "nbformat_minor": 1
}
