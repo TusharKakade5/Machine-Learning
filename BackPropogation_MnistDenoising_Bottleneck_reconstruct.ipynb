{
 "cells": [
  {
   "cell_type": "markdown",
   "metadata": {},
   "source": [
    "## 1. Data preparation"
   ]
  },
  {
   "cell_type": "markdown",
   "metadata": {},
   "source": [
    "### 1.1. Load data\n"
   ]
  },
  {
   "cell_type": "code",
   "execution_count": 1,
   "metadata": {},
   "outputs": [
    {
     "name": "stdout",
     "output_type": "stream",
     "text": [
      "Shape of x_train: (60000, 784)\n",
      "Shape of x_test: (10000, 784)\n",
      "Shape of y_train: (60000,)\n",
      "Shape of y_test: (10000,)\n"
     ]
    }
   ],
   "source": [
    "from keras.datasets import mnist\n",
    "\n",
    "(x_train, y_train), (x_test, y_test) = mnist.load_data()\n",
    "x_train = x_train.reshape(60000, 28*28).astype('float32') / 255.\n",
    "x_test = x_test.reshape(10000, 28*28).astype('float32') / 255.\n",
    "\n",
    "print('Shape of x_train: ' + str(x_train.shape)) \n",
    "print('Shape of x_test: ' + str(x_test.shape))\n",
    "print('Shape of y_train: ' + str(y_train.shape))\n",
    "print('Shape of y_test: ' + str(y_test.shape))"
   ]
  },
  {
   "cell_type": "markdown",
   "metadata": {},
   "source": [
    "### 1.2. One-hot encode the labels\n",
    "\n",
    "In the input, a label is a scalar in $\\{0, 1, \\cdots , 9\\}$. One-hot encode transform such a scalar to a $10$-dim vector. E.g., a scalar ```y_train[j]=3``` is transformed to the vector ```y_train_vec[j]=[0, 0, 0, 1, 0, 0, 0, 0, 0, 0]```.\n",
    "\n",
    "1. Define a function ```to_one_hot``` that transforms an $n\\times 1$ array to a $n\\times 10$ matrix.\n",
    "\n",
    "2. Apply the function to ```y_train``` and ```y_test```."
   ]
  },
  {
   "cell_type": "code",
   "execution_count": 2,
   "metadata": {},
   "outputs": [
    {
     "name": "stdout",
     "output_type": "stream",
     "text": [
      "Shape of y_train_vec: (60000, 10)\n",
      "Shape of y_test_vec: (10000, 10)\n",
      "5\n",
      "[0. 0. 0. 0. 0. 1. 0. 0. 0. 0.]\n"
     ]
    }
   ],
   "source": [
    "import numpy\n",
    "\n",
    "def to_one_hot(y, num_class=10):\n",
    "    results = numpy.zeros((len(y), num_class))\n",
    "    for i, label in enumerate(y):\n",
    "        results[i, label] = 1.\n",
    "    return results\n",
    "\n",
    "y_train_vec = to_one_hot(y_train)\n",
    "y_test_vec = to_one_hot(y_test)\n",
    "\n",
    "print('Shape of y_train_vec: ' + str(y_train_vec.shape))\n",
    "print('Shape of y_test_vec: ' + str(y_test_vec.shape))\n",
    "\n",
    "print(y_train[0])\n",
    "print(y_train_vec[0])"
   ]
  },
  {
   "cell_type": "markdown",
   "metadata": {},
   "source": [
    "### 1.3. Randomly partition the training set to training and validation sets\n",
    "\n",
    "Randomly partition the 60K training samples to 2 sets:\n",
    "* a training set containing 10K samples\n",
    "* a validation set containing 50K samples\n"
   ]
  },
  {
   "cell_type": "code",
   "execution_count": 3,
   "metadata": {},
   "outputs": [
    {
     "name": "stdout",
     "output_type": "stream",
     "text": [
      "Shape of x_tr: (10000, 784)\n",
      "Shape of y_tr: (10000, 10)\n",
      "Shape of x_val: (10000, 784)\n",
      "Shape of y_val: (10000, 10)\n"
     ]
    }
   ],
   "source": [
    "rand_indices = numpy.random.permutation(60000)\n",
    "train_indices = rand_indices[0:10000]\n",
    "valid_indices = rand_indices[10000:20000]\n",
    "\n",
    "x_val = x_train[valid_indices, :]\n",
    "y_val = y_train_vec[valid_indices, :]\n",
    "\n",
    "x_tr = x_train[train_indices, :]\n",
    "y_tr = y_train_vec[train_indices, :]\n",
    "\n",
    "print('Shape of x_tr: ' + str(x_tr.shape))\n",
    "print('Shape of y_tr: ' + str(y_tr.shape))\n",
    "print('Shape of x_val: ' + str(x_val.shape))\n",
    "print('Shape of y_val: ' + str(y_val.shape))"
   ]
  },
  {
   "cell_type": "code",
   "execution_count": 4,
   "metadata": {},
   "outputs": [],
   "source": [
    "from keras.layers import Dense, Input\n",
    "from keras import models\n",
    "from IPython.display import SVG\n",
    "from keras.utils.vis_utils import model_to_dot, plot_model\n",
    "from keras import optimizers\n",
    "import matplotlib.pyplot as plt"
   ]
  },
  {
   "cell_type": "markdown",
   "metadata": {},
   "source": [
    "## 4. Build a supervised autoencoder model\n",
    "\n",
    "\n",
    "**You are required to build and train a supervised autoencoder look like the following.** (Not necessary the same.) You are required to add other layers properly to alleviate overfitting.\n",
    "\n",
    "\n",
    "![Network Structure](https://github.com/wangshusen/CS583A-2019Spring/blob/master/homework/HM5/supervised_ae.png?raw=true \"NetworkStructure\")\n"
   ]
  },
  {
   "cell_type": "markdown",
   "metadata": {},
   "source": [
    "### 4.1. Build the network"
   ]
  },
  {
   "cell_type": "code",
   "execution_count": 8,
   "metadata": {},
   "outputs": [],
   "source": [
    "# build the supervised autoencoder network\n",
    "from keras.layers import Dense, Input, Flatten, Activation, Dropout\n",
    "from keras import models\n",
    "from keras.layers.normalization import BatchNormalization\n",
    "\n",
    "input_img = Input(shape=(784,), name='input_img')\n",
    "\n",
    "# encoder network\n",
    "encode1 = Dense(128,activation='relu',name='encode1')(input_img)\n",
    "encode2=Dense(32,activation='relu',name='encode2')(encode1)\n",
    "encode3=Dense(8,activation='relu',name='encode3')(encode2)\n",
    "\n",
    "# The width of the bottleneck layer must be exactly 2.\n",
    "bottleneck=Dense(4,activation='relu',name='bottleneck')(encode3)\n",
    "\n",
    "# decoder network\n",
    "decode1=Dense(8,name='decode1')(bottleneck)\n",
    "decode2=Dense(32,activation='relu',name='decode2')(decode1)\n",
    "decode3=Dense(128, activation='relu', name='decode3')(decode2)\n",
    "decode4=Dense(784, activation='relu', name='decode4')(decode3)\n",
    "\n",
    "# build a classifier upon the bottleneck layer\n",
    "classifier1=Dense(32,name='classifier1')(bottleneck)\n",
    "classifier1=BatchNormalization()(classifier1)\n",
    "classifier1=Activation('relu')(classifier1)\n",
    "classifier1=Dropout(0.2)(classifier1)\n",
    "classifier2=Dense(64,activation='relu',name='classifier2')(classifier1)\n",
    "classifier2=BatchNormalization()(classifier2)\n",
    "classifier2=Activation('relu')(classifier2)\n",
    "classifier2=Dropout(0.5)(classifier2)\n",
    "classifier3=Dense(10, activation='relu', name='classifier3')(classifier2)\n",
    "classifier3=BatchNormalization()(classifier3)\n",
    "classifier3=Activation('softmax')(classifier3)"
   ]
  },
  {
   "cell_type": "code",
   "execution_count": 9,
   "metadata": {},
   "outputs": [],
   "source": [
    "# connect the input and the two outputs\n",
    "sae = models.Model(input_img, [decode4, classifier3])\n",
    "\n",
    "#sae.summary()"
   ]
  },
  {
   "cell_type": "code",
   "execution_count": 10,
   "metadata": {},
   "outputs": [],
   "source": [
    "# print the network structure to a PDF file\n",
    "\n",
    "from IPython.display import SVG\n",
    "from keras.utils.vis_utils import model_to_dot, plot_model\n",
    "\n",
    "SVG(model_to_dot(sae, show_shapes=False).create(prog='dot', format='svg'))\n",
    "\n",
    "plot_model(\n",
    "    model=sae, show_shapes=False,\n",
    "    to_file='supervised_ae.pdf'\n",
    ")\n",
    "\n",
    "# you can find the file \"supervised_ae.pdf\" in the current directory."
   ]
  },
  {
   "cell_type": "markdown",
   "metadata": {},
   "source": [
    "### 4.2. Train the new model and tune the hyper-parameters\n",
    "\n",
    "The new model has multiple output. Thus we specify **multiple** loss functions and their weights. "
   ]
  },
  {
   "cell_type": "code",
   "execution_count": 11,
   "metadata": {},
   "outputs": [
    {
     "name": "stdout",
     "output_type": "stream",
     "text": [
      "Epoch 1/100\n",
      "313/313 [==============================] - 3s 5ms/step - loss: 1.6022 - decode4_loss: 0.0746 - activation_2_loss: 2.1822 - val_loss: 0.8822 - val_decode4_loss: 0.0603 - val_activation_2_loss: 1.1742\n",
      "Epoch 2/100\n",
      "313/313 [==============================] - 1s 3ms/step - loss: 0.8500 - decode4_loss: 0.0587 - activation_2_loss: 1.1305 - val_loss: 0.4649 - val_decode4_loss: 0.0570 - val_activation_2_loss: 0.5827\n",
      "Epoch 3/100\n",
      "313/313 [==============================] - 1s 3ms/step - loss: 0.6297 - decode4_loss: 0.0570 - activation_2_loss: 0.8182 - val_loss: 0.3622 - val_decode4_loss: 0.0552 - val_activation_2_loss: 0.4386\n",
      "Epoch 4/100\n",
      "313/313 [==============================] - 1s 3ms/step - loss: 0.4999 - decode4_loss: 0.0554 - activation_2_loss: 0.6351 - val_loss: 0.3470 - val_decode4_loss: 0.0550 - val_activation_2_loss: 0.4171\n",
      "Epoch 5/100\n",
      "313/313 [==============================] - 1s 4ms/step - loss: 0.4575 - decode4_loss: 0.0546 - activation_2_loss: 0.5756 - val_loss: 0.3034 - val_decode4_loss: 0.0548 - val_activation_2_loss: 0.3552\n",
      "Epoch 6/100\n",
      "313/313 [==============================] - 1s 3ms/step - loss: 0.4100 - decode4_loss: 0.0546 - activation_2_loss: 0.5076 - val_loss: 0.2430 - val_decode4_loss: 0.0539 - val_activation_2_loss: 0.2701\n",
      "Epoch 7/100\n",
      "313/313 [==============================] - 1s 3ms/step - loss: 0.3678 - decode4_loss: 0.0541 - activation_2_loss: 0.4481 - val_loss: 0.3330 - val_decode4_loss: 0.0537 - val_activation_2_loss: 0.3990\n",
      "Epoch 8/100\n",
      "313/313 [==============================] - 1s 3ms/step - loss: 0.3347 - decode4_loss: 0.0537 - activation_2_loss: 0.4014 - val_loss: 0.2166 - val_decode4_loss: 0.0522 - val_activation_2_loss: 0.2348\n",
      "Epoch 9/100\n",
      "313/313 [==============================] - 1s 3ms/step - loss: 0.3208 - decode4_loss: 0.0530 - activation_2_loss: 0.3825 - val_loss: 0.2113 - val_decode4_loss: 0.0524 - val_activation_2_loss: 0.2269\n",
      "Epoch 10/100\n",
      "313/313 [==============================] - 1s 3ms/step - loss: 0.2889 - decode4_loss: 0.0527 - activation_2_loss: 0.3375 - val_loss: 0.2390 - val_decode4_loss: 0.0526 - val_activation_2_loss: 0.2663\n",
      "Epoch 11/100\n",
      "313/313 [==============================] - 1s 3ms/step - loss: 0.2886 - decode4_loss: 0.0527 - activation_2_loss: 0.3369 - val_loss: 0.2176 - val_decode4_loss: 0.0515 - val_activation_2_loss: 0.2373\n",
      "Epoch 12/100\n",
      "313/313 [==============================] - 1s 3ms/step - loss: 0.2611 - decode4_loss: 0.0525 - activation_2_loss: 0.2980 - val_loss: 0.2204 - val_decode4_loss: 0.0522 - val_activation_2_loss: 0.2402\n",
      "Epoch 13/100\n",
      "313/313 [==============================] - 1s 3ms/step - loss: 0.2586 - decode4_loss: 0.0521 - activation_2_loss: 0.2951 - val_loss: 0.2225 - val_decode4_loss: 0.0512 - val_activation_2_loss: 0.2447\n",
      "Epoch 14/100\n",
      "313/313 [==============================] - 1s 3ms/step - loss: 0.2398 - decode4_loss: 0.0518 - activation_2_loss: 0.2686 - val_loss: 0.2232 - val_decode4_loss: 0.0511 - val_activation_2_loss: 0.2457\n",
      "Epoch 15/100\n",
      "313/313 [==============================] - 1s 3ms/step - loss: 0.2482 - decode4_loss: 0.0514 - activation_2_loss: 0.2812 - val_loss: 0.2018 - val_decode4_loss: 0.0513 - val_activation_2_loss: 0.2150\n",
      "Epoch 16/100\n",
      "313/313 [==============================] - 1s 3ms/step - loss: 0.2374 - decode4_loss: 0.0512 - activation_2_loss: 0.2660 - val_loss: 0.2190 - val_decode4_loss: 0.0508 - val_activation_2_loss: 0.2403\n",
      "Epoch 17/100\n",
      "313/313 [==============================] - 2s 5ms/step - loss: 0.2407 - decode4_loss: 0.0513 - activation_2_loss: 0.2706 - val_loss: 0.2192 - val_decode4_loss: 0.0509 - val_activation_2_loss: 0.2405\n",
      "Epoch 18/100\n",
      "313/313 [==============================] - 2s 5ms/step - loss: 0.2287 - decode4_loss: 0.0514 - activation_2_loss: 0.2532 - val_loss: 0.2235 - val_decode4_loss: 0.0513 - val_activation_2_loss: 0.2459\n",
      "Epoch 19/100\n",
      "313/313 [==============================] - 2s 5ms/step - loss: 0.2226 - decode4_loss: 0.0518 - activation_2_loss: 0.2441 - val_loss: 0.2361 - val_decode4_loss: 0.0513 - val_activation_2_loss: 0.2640\n",
      "Epoch 20/100\n",
      "313/313 [==============================] - 2s 5ms/step - loss: 0.2251 - decode4_loss: 0.0515 - activation_2_loss: 0.2479 - val_loss: 0.2503 - val_decode4_loss: 0.0515 - val_activation_2_loss: 0.2841\n",
      "Epoch 21/100\n",
      "313/313 [==============================] - 2s 5ms/step - loss: 0.2199 - decode4_loss: 0.0513 - activation_2_loss: 0.2408 - val_loss: 0.2400 - val_decode4_loss: 0.0514 - val_activation_2_loss: 0.2693\n",
      "Epoch 22/100\n",
      "313/313 [==============================] - 2s 5ms/step - loss: 0.2262 - decode4_loss: 0.0517 - activation_2_loss: 0.2493 - val_loss: 0.2249 - val_decode4_loss: 0.0512 - val_activation_2_loss: 0.2482\n",
      "Epoch 23/100\n",
      "313/313 [==============================] - 2s 5ms/step - loss: 0.1991 - decode4_loss: 0.0516 - activation_2_loss: 0.2107 - val_loss: 0.2339 - val_decode4_loss: 0.0509 - val_activation_2_loss: 0.2614\n",
      "Epoch 24/100\n",
      "313/313 [==============================] - 2s 5ms/step - loss: 0.1972 - decode4_loss: 0.0511 - activation_2_loss: 0.2087 - val_loss: 0.2509 - val_decode4_loss: 0.0506 - val_activation_2_loss: 0.2862\n",
      "Epoch 25/100\n",
      "313/313 [==============================] - 2s 5ms/step - loss: 0.2140 - decode4_loss: 0.0512 - activation_2_loss: 0.2325 - val_loss: 0.2344 - val_decode4_loss: 0.0510 - val_activation_2_loss: 0.2620\n",
      "Epoch 26/100\n",
      "313/313 [==============================] - 2s 5ms/step - loss: 0.2089 - decode4_loss: 0.0511 - activation_2_loss: 0.2255 - val_loss: 0.2189 - val_decode4_loss: 0.0501 - val_activation_2_loss: 0.2410\n",
      "Epoch 27/100\n",
      "313/313 [==============================] - 2s 5ms/step - loss: 0.1870 - decode4_loss: 0.0505 - activation_2_loss: 0.1949 - val_loss: 0.2510 - val_decode4_loss: 0.0514 - val_activation_2_loss: 0.2852\n",
      "Epoch 28/100\n",
      "313/313 [==============================] - 2s 5ms/step - loss: 0.1998 - decode4_loss: 0.0510 - activation_2_loss: 0.2126 - val_loss: 0.2485 - val_decode4_loss: 0.0501 - val_activation_2_loss: 0.2834\n",
      "Epoch 29/100\n",
      "313/313 [==============================] - 2s 5ms/step - loss: 0.1864 - decode4_loss: 0.0503 - activation_2_loss: 0.1944 - val_loss: 0.2462 - val_decode4_loss: 0.0500 - val_activation_2_loss: 0.2802\n",
      "Epoch 30/100\n",
      "313/313 [==============================] - 2s 5ms/step - loss: 0.1927 - decode4_loss: 0.0506 - activation_2_loss: 0.2031 - val_loss: 0.2359 - val_decode4_loss: 0.0505 - val_activation_2_loss: 0.2648\n",
      "Epoch 31/100\n",
      "313/313 [==============================] - 2s 5ms/step - loss: 0.1835 - decode4_loss: 0.0507 - activation_2_loss: 0.1898 - val_loss: 0.2733 - val_decode4_loss: 0.0507 - val_activation_2_loss: 0.3180\n",
      "Epoch 32/100\n",
      "313/313 [==============================] - 2s 5ms/step - loss: 0.1945 - decode4_loss: 0.0506 - activation_2_loss: 0.2056 - val_loss: 0.2529 - val_decode4_loss: 0.0503 - val_activation_2_loss: 0.2894\n",
      "Epoch 33/100\n",
      "313/313 [==============================] - 2s 5ms/step - loss: 0.1758 - decode4_loss: 0.0501 - activation_2_loss: 0.1796 - val_loss: 0.2498 - val_decode4_loss: 0.0499 - val_activation_2_loss: 0.2856\n",
      "Epoch 34/100\n",
      "313/313 [==============================] - 2s 5ms/step - loss: 0.1992 - decode4_loss: 0.0498 - activation_2_loss: 0.2134 - val_loss: 0.2415 - val_decode4_loss: 0.0494 - val_activation_2_loss: 0.2745\n",
      "Epoch 35/100\n",
      "313/313 [==============================] - 2s 5ms/step - loss: 0.1929 - decode4_loss: 0.0496 - activation_2_loss: 0.2046 - val_loss: 0.2360 - val_decode4_loss: 0.0497 - val_activation_2_loss: 0.2662\n",
      "Epoch 36/100\n",
      "313/313 [==============================] - 2s 5ms/step - loss: 0.1972 - decode4_loss: 0.0499 - activation_2_loss: 0.2104 - val_loss: 0.2628 - val_decode4_loss: 0.0487 - val_activation_2_loss: 0.3058\n",
      "Epoch 37/100\n",
      "313/313 [==============================] - 2s 5ms/step - loss: 0.1944 - decode4_loss: 0.0494 - activation_2_loss: 0.2071 - val_loss: 0.2869 - val_decode4_loss: 0.0496 - val_activation_2_loss: 0.3390\n",
      "Epoch 38/100\n",
      "313/313 [==============================] - 2s 5ms/step - loss: 0.1727 - decode4_loss: 0.0494 - activation_2_loss: 0.1761 - val_loss: 0.2442 - val_decode4_loss: 0.0492 - val_activation_2_loss: 0.2787\n",
      "Epoch 39/100\n",
      "313/313 [==============================] - 2s 5ms/step - loss: 0.1815 - decode4_loss: 0.0493 - activation_2_loss: 0.1889 - val_loss: 0.2259 - val_decode4_loss: 0.0490 - val_activation_2_loss: 0.2528\n"
     ]
    },
    {
     "name": "stdout",
     "output_type": "stream",
     "text": [
      "Epoch 40/100\n",
      "313/313 [==============================] - 2s 5ms/step - loss: 0.1654 - decode4_loss: 0.0490 - activation_2_loss: 0.1662 - val_loss: 0.2612 - val_decode4_loss: 0.0489 - val_activation_2_loss: 0.3033\n",
      "Epoch 41/100\n",
      "313/313 [==============================] - 2s 5ms/step - loss: 0.1761 - decode4_loss: 0.0491 - activation_2_loss: 0.1813 - val_loss: 0.2653 - val_decode4_loss: 0.0490 - val_activation_2_loss: 0.3091\n",
      "Epoch 42/100\n",
      "313/313 [==============================] - 2s 5ms/step - loss: 0.1725 - decode4_loss: 0.0485 - activation_2_loss: 0.1771 - val_loss: 0.2603 - val_decode4_loss: 0.0485 - val_activation_2_loss: 0.3025\n",
      "Epoch 43/100\n",
      "313/313 [==============================] - 2s 5ms/step - loss: 0.1704 - decode4_loss: 0.0485 - activation_2_loss: 0.1741 - val_loss: 0.2723 - val_decode4_loss: 0.0489 - val_activation_2_loss: 0.3192\n",
      "Epoch 44/100\n",
      "313/313 [==============================] - 1s 5ms/step - loss: 0.1457 - decode4_loss: 0.0485 - activation_2_loss: 0.1389 - val_loss: 0.2457 - val_decode4_loss: 0.0481 - val_activation_2_loss: 0.2823\n",
      "Epoch 45/100\n",
      "313/313 [==============================] - 1s 5ms/step - loss: 0.1662 - decode4_loss: 0.0484 - activation_2_loss: 0.1683 - val_loss: 0.2787 - val_decode4_loss: 0.0486 - val_activation_2_loss: 0.3287\n",
      "Epoch 46/100\n",
      "313/313 [==============================] - 1s 5ms/step - loss: 0.1621 - decode4_loss: 0.0488 - activation_2_loss: 0.1618 - val_loss: 0.2636 - val_decode4_loss: 0.0481 - val_activation_2_loss: 0.3077\n",
      "Epoch 47/100\n",
      "313/313 [==============================] - 1s 5ms/step - loss: 0.1659 - decode4_loss: 0.0486 - activation_2_loss: 0.1675 - val_loss: 0.2821 - val_decode4_loss: 0.0484 - val_activation_2_loss: 0.3338\n",
      "Epoch 48/100\n",
      "313/313 [==============================] - 2s 5ms/step - loss: 0.1724 - decode4_loss: 0.0485 - activation_2_loss: 0.1770 - val_loss: 0.2669 - val_decode4_loss: 0.0484 - val_activation_2_loss: 0.3122\n",
      "Epoch 49/100\n",
      "313/313 [==============================] - 2s 5ms/step - loss: 0.1661 - decode4_loss: 0.0486 - activation_2_loss: 0.1679 - val_loss: 0.2855 - val_decode4_loss: 0.0478 - val_activation_2_loss: 0.3395\n",
      "Epoch 50/100\n",
      "313/313 [==============================] - 1s 5ms/step - loss: 0.1510 - decode4_loss: 0.0482 - activation_2_loss: 0.1469 - val_loss: 0.3271 - val_decode4_loss: 0.0486 - val_activation_2_loss: 0.3979\n",
      "Epoch 51/100\n",
      "313/313 [==============================] - 1s 5ms/step - loss: 0.1905 - decode4_loss: 0.0485 - activation_2_loss: 0.2029 - val_loss: 0.2646 - val_decode4_loss: 0.0488 - val_activation_2_loss: 0.3082\n",
      "Epoch 52/100\n",
      "313/313 [==============================] - 1s 5ms/step - loss: 0.1692 - decode4_loss: 0.0486 - activation_2_loss: 0.1724 - val_loss: 0.2944 - val_decode4_loss: 0.0480 - val_activation_2_loss: 0.3519\n",
      "Epoch 53/100\n",
      "313/313 [==============================] - 2s 5ms/step - loss: 0.1861 - decode4_loss: 0.0485 - activation_2_loss: 0.1965 - val_loss: 0.2704 - val_decode4_loss: 0.0479 - val_activation_2_loss: 0.3179\n",
      "Epoch 54/100\n",
      "313/313 [==============================] - 2s 6ms/step - loss: 0.1792 - decode4_loss: 0.0480 - activation_2_loss: 0.1874 - val_loss: 0.2985 - val_decode4_loss: 0.0477 - val_activation_2_loss: 0.3582\n",
      "Epoch 55/100\n",
      "313/313 [==============================] - 2s 5ms/step - loss: 0.1807 - decode4_loss: 0.0484 - activation_2_loss: 0.1890 - val_loss: 0.2681 - val_decode4_loss: 0.0485 - val_activation_2_loss: 0.3138\n",
      "Epoch 56/100\n",
      "313/313 [==============================] - 2s 5ms/step - loss: 0.1725 - decode4_loss: 0.0483 - activation_2_loss: 0.1774 - val_loss: 0.2591 - val_decode4_loss: 0.0482 - val_activation_2_loss: 0.3013\n",
      "Epoch 57/100\n",
      "313/313 [==============================] - 2s 5ms/step - loss: 0.1612 - decode4_loss: 0.0477 - activation_2_loss: 0.1622 - val_loss: 0.2734 - val_decode4_loss: 0.0479 - val_activation_2_loss: 0.3222\n",
      "Epoch 58/100\n",
      "313/313 [==============================] - 2s 5ms/step - loss: 0.1732 - decode4_loss: 0.0482 - activation_2_loss: 0.1786 - val_loss: 0.2782 - val_decode4_loss: 0.0480 - val_activation_2_loss: 0.3289\n",
      "Epoch 59/100\n",
      "313/313 [==============================] - 2s 5ms/step - loss: 0.1541 - decode4_loss: 0.0479 - activation_2_loss: 0.1517 - val_loss: 0.2760 - val_decode4_loss: 0.0477 - val_activation_2_loss: 0.3261\n",
      "Epoch 60/100\n",
      "313/313 [==============================] - 2s 5ms/step - loss: 0.1590 - decode4_loss: 0.0476 - activation_2_loss: 0.1592 - val_loss: 0.3015 - val_decode4_loss: 0.0472 - val_activation_2_loss: 0.3632\n",
      "Epoch 61/100\n",
      "313/313 [==============================] - 2s 5ms/step - loss: 0.1738 - decode4_loss: 0.0473 - activation_2_loss: 0.1807 - val_loss: 0.2994 - val_decode4_loss: 0.0481 - val_activation_2_loss: 0.3590\n",
      "Epoch 62/100\n",
      "313/313 [==============================] - 2s 6ms/step - loss: 0.1817 - decode4_loss: 0.0482 - activation_2_loss: 0.1907 - val_loss: 0.2620 - val_decode4_loss: 0.0477 - val_activation_2_loss: 0.3062\n",
      "Epoch 63/100\n",
      "313/313 [==============================] - 2s 6ms/step - loss: 0.1634 - decode4_loss: 0.0482 - activation_2_loss: 0.1645 - val_loss: 0.2782 - val_decode4_loss: 0.0474 - val_activation_2_loss: 0.3298\n",
      "Epoch 64/100\n",
      "313/313 [==============================] - 2s 6ms/step - loss: 0.1402 - decode4_loss: 0.0473 - activation_2_loss: 0.1328 - val_loss: 0.2595 - val_decode4_loss: 0.0469 - val_activation_2_loss: 0.3037\n",
      "Epoch 65/100\n",
      "313/313 [==============================] - 2s 6ms/step - loss: 0.1582 - decode4_loss: 0.0473 - activation_2_loss: 0.1585 - val_loss: 0.2752 - val_decode4_loss: 0.0472 - val_activation_2_loss: 0.3257\n",
      "Epoch 66/100\n",
      "313/313 [==============================] - 2s 7ms/step - loss: 0.1602 - decode4_loss: 0.0478 - activation_2_loss: 0.1606 - val_loss: 0.2910 - val_decode4_loss: 0.0474 - val_activation_2_loss: 0.3481\n",
      "Epoch 67/100\n",
      "313/313 [==============================] - 2s 5ms/step - loss: 0.1627 - decode4_loss: 0.0477 - activation_2_loss: 0.1643 - val_loss: 0.3046 - val_decode4_loss: 0.0479 - val_activation_2_loss: 0.3667\n",
      "Epoch 68/100\n",
      "313/313 [==============================] - 2s 5ms/step - loss: 0.1766 - decode4_loss: 0.0479 - activation_2_loss: 0.1839 - val_loss: 0.2698 - val_decode4_loss: 0.0474 - val_activation_2_loss: 0.3177\n",
      "Epoch 69/100\n",
      "313/313 [==============================] - 2s 6ms/step - loss: 0.1589 - decode4_loss: 0.0471 - activation_2_loss: 0.1597 - val_loss: 0.3147 - val_decode4_loss: 0.0472 - val_activation_2_loss: 0.3821\n",
      "Epoch 70/100\n",
      "313/313 [==============================] - 2s 6ms/step - loss: 0.1861 - decode4_loss: 0.0473 - activation_2_loss: 0.1983 - val_loss: 0.2824 - val_decode4_loss: 0.0476 - val_activation_2_loss: 0.3354\n",
      "Epoch 71/100\n",
      "313/313 [==============================] - 2s 6ms/step - loss: 0.1700 - decode4_loss: 0.0477 - activation_2_loss: 0.1747 - val_loss: 0.2755 - val_decode4_loss: 0.0484 - val_activation_2_loss: 0.3245\n",
      "Epoch 72/100\n",
      "313/313 [==============================] - 2s 5ms/step - loss: 0.1565 - decode4_loss: 0.0481 - activation_2_loss: 0.1548 - val_loss: 0.2781 - val_decode4_loss: 0.0471 - val_activation_2_loss: 0.3300\n",
      "Epoch 73/100\n",
      "313/313 [==============================] - 2s 5ms/step - loss: 0.1558 - decode4_loss: 0.0471 - activation_2_loss: 0.1552 - val_loss: 0.3259 - val_decode4_loss: 0.0481 - val_activation_2_loss: 0.3969\n",
      "Epoch 74/100\n",
      "313/313 [==============================] - 2s 5ms/step - loss: 0.1664 - decode4_loss: 0.0476 - activation_2_loss: 0.1698 - val_loss: 0.2851 - val_decode4_loss: 0.0474 - val_activation_2_loss: 0.3396\n",
      "Epoch 75/100\n",
      "313/313 [==============================] - 2s 5ms/step - loss: 0.1705 - decode4_loss: 0.0475 - activation_2_loss: 0.1758 - val_loss: 0.2921 - val_decode4_loss: 0.0476 - val_activation_2_loss: 0.3493\n",
      "Epoch 76/100\n",
      "313/313 [==============================] - 2s 6ms/step - loss: 0.1653 - decode4_loss: 0.0479 - activation_2_loss: 0.1677 - val_loss: 0.2975 - val_decode4_loss: 0.0478 - val_activation_2_loss: 0.3567\n",
      "Epoch 77/100\n",
      "313/313 [==============================] - 2s 5ms/step - loss: 0.1485 - decode4_loss: 0.0476 - activation_2_loss: 0.1442 - val_loss: 0.2843 - val_decode4_loss: 0.0475 - val_activation_2_loss: 0.3383\n",
      "Epoch 78/100\n",
      "313/313 [==============================] - 2s 5ms/step - loss: 0.1658 - decode4_loss: 0.0478 - activation_2_loss: 0.1687 - val_loss: 0.2936 - val_decode4_loss: 0.0475 - val_activation_2_loss: 0.3516\n"
     ]
    },
    {
     "name": "stdout",
     "output_type": "stream",
     "text": [
      "Epoch 79/100\n",
      "313/313 [==============================] - 2s 5ms/step - loss: 0.1688 - decode4_loss: 0.0480 - activation_2_loss: 0.1725 - val_loss: 0.2975 - val_decode4_loss: 0.0480 - val_activation_2_loss: 0.3564\n",
      "Epoch 80/100\n",
      "313/313 [==============================] - 2s 5ms/step - loss: 0.1572 - decode4_loss: 0.0472 - activation_2_loss: 0.1570 - val_loss: 0.3038 - val_decode4_loss: 0.0474 - val_activation_2_loss: 0.3662\n",
      "Epoch 81/100\n",
      "313/313 [==============================] - 2s 5ms/step - loss: 0.1765 - decode4_loss: 0.0476 - activation_2_loss: 0.1842 - val_loss: 0.2869 - val_decode4_loss: 0.0470 - val_activation_2_loss: 0.3427\n",
      "Epoch 82/100\n",
      "313/313 [==============================] - 2s 5ms/step - loss: 0.1612 - decode4_loss: 0.0476 - activation_2_loss: 0.1623 - val_loss: 0.2920 - val_decode4_loss: 0.0479 - val_activation_2_loss: 0.3487\n",
      "Epoch 83/100\n",
      "313/313 [==============================] - 2s 6ms/step - loss: 0.1644 - decode4_loss: 0.0475 - activation_2_loss: 0.1670 - val_loss: 0.2714 - val_decode4_loss: 0.0468 - val_activation_2_loss: 0.3209\n",
      "Epoch 84/100\n",
      "313/313 [==============================] - 2s 5ms/step - loss: 0.1428 - decode4_loss: 0.0470 - activation_2_loss: 0.1368 - val_loss: 0.2912 - val_decode4_loss: 0.0469 - val_activation_2_loss: 0.3490\n",
      "Epoch 85/100\n",
      "313/313 [==============================] - 2s 5ms/step - loss: 0.1404 - decode4_loss: 0.0470 - activation_2_loss: 0.1334 - val_loss: 0.3008 - val_decode4_loss: 0.0477 - val_activation_2_loss: 0.3616\n",
      "Epoch 86/100\n",
      "313/313 [==============================] - 2s 5ms/step - loss: 0.1540 - decode4_loss: 0.0473 - activation_2_loss: 0.1524 - val_loss: 0.3088 - val_decode4_loss: 0.0479 - val_activation_2_loss: 0.3727\n",
      "Epoch 87/100\n",
      "313/313 [==============================] - 2s 5ms/step - loss: 0.1516 - decode4_loss: 0.0476 - activation_2_loss: 0.1485 - val_loss: 0.2894 - val_decode4_loss: 0.0474 - val_activation_2_loss: 0.3458\n",
      "Epoch 88/100\n",
      "313/313 [==============================] - 2s 5ms/step - loss: 0.1407 - decode4_loss: 0.0476 - activation_2_loss: 0.1330 - val_loss: 0.2960 - val_decode4_loss: 0.0473 - val_activation_2_loss: 0.3553\n",
      "Epoch 89/100\n",
      "313/313 [==============================] - 2s 5ms/step - loss: 0.1446 - decode4_loss: 0.0472 - activation_2_loss: 0.1391 - val_loss: 0.3629 - val_decode4_loss: 0.0477 - val_activation_2_loss: 0.4502\n",
      "Epoch 90/100\n",
      "313/313 [==============================] - 2s 5ms/step - loss: 0.1570 - decode4_loss: 0.0469 - activation_2_loss: 0.1573 - val_loss: 0.2833 - val_decode4_loss: 0.0470 - val_activation_2_loss: 0.3376\n",
      "Epoch 91/100\n",
      "313/313 [==============================] - 2s 5ms/step - loss: 0.1552 - decode4_loss: 0.0472 - activation_2_loss: 0.1543 - val_loss: 0.2880 - val_decode4_loss: 0.0471 - val_activation_2_loss: 0.3441\n",
      "Epoch 92/100\n",
      "313/313 [==============================] - 2s 5ms/step - loss: 0.1538 - decode4_loss: 0.0473 - activation_2_loss: 0.1522 - val_loss: 0.2907 - val_decode4_loss: 0.0468 - val_activation_2_loss: 0.3483\n",
      "Epoch 93/100\n",
      "313/313 [==============================] - 2s 5ms/step - loss: 0.1621 - decode4_loss: 0.0470 - activation_2_loss: 0.1645 - val_loss: 0.2943 - val_decode4_loss: 0.0463 - val_activation_2_loss: 0.3543\n",
      "Epoch 94/100\n",
      "313/313 [==============================] - 2s 5ms/step - loss: 0.1586 - decode4_loss: 0.0465 - activation_2_loss: 0.1602 - val_loss: 0.2948 - val_decode4_loss: 0.0470 - val_activation_2_loss: 0.3540\n",
      "Epoch 95/100\n",
      "313/313 [==============================] - 2s 5ms/step - loss: 0.1495 - decode4_loss: 0.0470 - activation_2_loss: 0.1463 - val_loss: 0.2892 - val_decode4_loss: 0.0476 - val_activation_2_loss: 0.3452\n",
      "Epoch 96/100\n",
      "313/313 [==============================] - 2s 5ms/step - loss: 0.1629 - decode4_loss: 0.0480 - activation_2_loss: 0.1641 - val_loss: 0.2929 - val_decode4_loss: 0.0473 - val_activation_2_loss: 0.3509\n",
      "Epoch 97/100\n",
      "313/313 [==============================] - 2s 5ms/step - loss: 0.1547 - decode4_loss: 0.0472 - activation_2_loss: 0.1536 - val_loss: 0.3063 - val_decode4_loss: 0.0474 - val_activation_2_loss: 0.3699\n",
      "Epoch 98/100\n",
      "313/313 [==============================] - 2s 5ms/step - loss: 0.1452 - decode4_loss: 0.0467 - activation_2_loss: 0.1407 - val_loss: 0.3301 - val_decode4_loss: 0.0470 - val_activation_2_loss: 0.4045\n",
      "Epoch 99/100\n",
      "313/313 [==============================] - 2s 5ms/step - loss: 0.1481 - decode4_loss: 0.0471 - activation_2_loss: 0.1442 - val_loss: 0.2841 - val_decode4_loss: 0.0476 - val_activation_2_loss: 0.3378\n",
      "Epoch 100/100\n",
      "313/313 [==============================] - 2s 5ms/step - loss: 0.1592 - decode4_loss: 0.0478 - activation_2_loss: 0.1592 - val_loss: 0.2993 - val_decode4_loss: 0.0474 - val_activation_2_loss: 0.3598\n"
     ]
    }
   ],
   "source": [
    "from keras import optimizers\n",
    "\n",
    "sae.compile(loss=['mean_squared_error', 'categorical_crossentropy'],\n",
    "            loss_weights=[1, 0.7], # to be tuned\n",
    "            optimizer=optimizers.RMSprop(lr=1E-3))\n",
    "\n",
    "history = sae.fit(x_tr, [x_tr, y_tr], \n",
    "                  batch_size=32, \n",
    "                  epochs=100, \n",
    "                  validation_data=(x_val, [x_val, y_val]))"
   ]
  },
  {
   "cell_type": "code",
   "execution_count": 12,
   "metadata": {},
   "outputs": [
    {
     "data": {
      "image/png": "[encoded data removed]",
      "text/plain": [
       "<Figure size 432x288 with 1 Axes>"
      ]
     },
     "metadata": {
      "needs_background": "light"
     },
     "output_type": "display_data"
    }
   ],
   "source": [
    "import matplotlib.pyplot as plt\n",
    "%matplotlib inline\n",
    "\n",
    "loss = history.history['loss']\n",
    "val_loss = history.history['val_loss']\n",
    "\n",
    "epochs = range(len(loss))\n",
    "\n",
    "plt.plot(epochs, loss, 'bo', label='Training Loss')\n",
    "plt.plot(epochs, val_loss, 'r', label='Validation Loss')\n",
    "plt.xlabel('Epochs')\n",
    "plt.ylabel('Loss')\n",
    "plt.legend()\n",
    "plt.show()"
   ]
  },
  {
   "cell_type": "markdown",
   "metadata": {},
   "source": [
    "### 4.3. Visualize the reconstructed test images"
   ]
  },
  {
   "cell_type": "code",
   "execution_count": 13,
   "metadata": {},
   "outputs": [
    {
     "data": {
      "image/png": "[encoded data removed]",
      "text/plain": [
       "<Figure size 576x720 with 20 Axes>"
      ]
     },
     "metadata": {
      "needs_background": "light"
     },
     "output_type": "display_data"
    }
   ],
   "source": [
    "sae_output = sae.predict(x_test)[0].reshape((10000, 28, 28))\n",
    "\n",
    "ROW = 5\n",
    "COLUMN = 4\n",
    "\n",
    "x = sae_output\n",
    "fname = 'reconstruct_sae.pdf'\n",
    "\n",
    "fig, axes = plt.subplots(nrows=ROW, ncols=COLUMN, figsize=(8, 10))\n",
    "for ax, i in zip(axes.flat, numpy.arange(ROW*COLUMN)):\n",
    "    image = x[i].reshape(28, 28)\n",
    "    ax.imshow(image, cmap='gray')\n",
    "    ax.axis('off')\n",
    "\n",
    "plt.tight_layout()\n",
    "plt.savefig(fname)\n",
    "plt.show()"
   ]
  }
 ],
 "metadata": {
  "kernelspec": {
   "display_name": "Python 3",
   "language": "python",
   "name": "python3"
  },
  "language_info": {
   "codemirror_mode": {
    "name": "ipython",
    "version": 3
   },
   "file_extension": ".py",
   "mimetype": "text/x-python",
   "name": "python",
   "nbconvert_exporter": "python",
   "pygments_lexer": "ipython3",
   "version": "3.8.3"
  }
 },
 "nbformat": 4,
 "nbformat_minor": 2
}
